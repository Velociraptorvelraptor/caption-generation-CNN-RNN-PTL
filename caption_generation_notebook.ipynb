{
  "cells": [
    {
      "cell_type": "markdown",
      "metadata": {
        "id": "view-in-github",
        "colab_type": "text"
      },
      "source": [
        "<a href=\"https://colab.research.google.com/github/Velociraptorvelraptor/caption-generation-CNN-RNN-PTL/blob/main/caption_generation_notebook.ipynb\" target=\"_parent\"><img src=\"https://colab.research.google.com/assets/colab-badge.svg\" alt=\"Open In Colab\"/></a>"
      ]
    },
    {
      "cell_type": "code",
      "execution_count": 1,
      "metadata": {
        "colab": {
          "base_uri": "https://localhost:8080/"
        },
        "id": "7rnKW2Qg8zP2",
        "outputId": "0abdec88-a487-4157-df32-94533aae9163"
      },
      "outputs": [
        {
          "output_type": "stream",
          "name": "stdout",
          "text": [
            "--2023-01-18 14:26:52--  http://images.cocodataset.org/zips/train2017.zip\n",
            "Resolving images.cocodataset.org (images.cocodataset.org)... 52.216.238.59, 52.216.50.25, 52.216.210.249, ...\n",
            "Connecting to images.cocodataset.org (images.cocodataset.org)|52.216.238.59|:80... connected.\n",
            "HTTP request sent, awaiting response... 200 OK\n",
            "Length: 19336861798 (18G) [application/zip]\n",
            "Saving to: ‘train2017.zip’\n",
            "\n",
            "train2017.zip       100%[===================>]  18.01G  99.4MB/s    in 3m 15s  \n",
            "\n",
            "2023-01-18 14:30:07 (94.8 MB/s) - ‘train2017.zip’ saved [19336861798/19336861798]\n",
            "\n",
            "--2023-01-18 14:30:07--  http://images.cocodataset.org/annotations/annotations_trainval2017.zip\n",
            "Resolving images.cocodataset.org (images.cocodataset.org)... 52.217.194.113, 52.217.226.249, 52.217.78.92, ...\n",
            "Connecting to images.cocodataset.org (images.cocodataset.org)|52.217.194.113|:80... connected.\n",
            "HTTP request sent, awaiting response... 200 OK\n",
            "Length: 252907541 (241M) [application/zip]\n",
            "Saving to: ‘annotations_trainval2017.zip’\n",
            "\n",
            "annotations_trainva 100%[===================>] 241.19M  98.4MB/s    in 2.5s    \n",
            "\n",
            "2023-01-18 14:30:10 (98.4 MB/s) - ‘annotations_trainval2017.zip’ saved [252907541/252907541]\n",
            "\n"
          ]
        }
      ],
      "source": [
        "!wget http://images.cocodataset.org/zips/train2017.zip\n",
        "!wget http://images.cocodataset.org/annotations/annotations_trainval2017.zip"
      ]
    },
    {
      "cell_type": "code",
      "execution_count": 2,
      "metadata": {
        "id": "_DfRpH9XJmtm"
      },
      "outputs": [],
      "source": [
        "!mkdir coco_data"
      ]
    },
    {
      "cell_type": "code",
      "source": [
        "!unzip ./train2017.zip -d ./coco_data/"
      ],
      "metadata": {
        "id": "cQ0QZ0BYFIh2"
      },
      "execution_count": null,
      "outputs": []
    },
    {
      "cell_type": "code",
      "execution_count": 4,
      "metadata": {
        "id": "EB74-_EcQT1N",
        "colab": {
          "base_uri": "https://localhost:8080/"
        },
        "outputId": "9a871320-579a-418a-e755-4b8988614756"
      },
      "outputs": [
        {
          "output_type": "stream",
          "name": "stdout",
          "text": [
            "Archive:  ./annotations_trainval2017.zip\n",
            "  inflating: ./coco_data/annotations/instances_train2017.json  \n",
            "  inflating: ./coco_data/annotations/instances_val2017.json  \n",
            "  inflating: ./coco_data/annotations/captions_train2017.json  \n",
            "  inflating: ./coco_data/annotations/captions_val2017.json  \n",
            "  inflating: ./coco_data/annotations/person_keypoints_train2017.json  \n",
            "  inflating: ./coco_data/annotations/person_keypoints_val2017.json  \n"
          ]
        }
      ],
      "source": [
        "!unzip ./annotations_trainval2017.zip -d ./coco_data/"
      ]
    },
    {
      "cell_type": "code",
      "execution_count": 1,
      "metadata": {
        "id": "09Zs_ZFpD4qA",
        "colab": {
          "base_uri": "https://localhost:8080/"
        },
        "outputId": "4d53e176-129f-463f-cd10-38f3f2e29905"
      },
      "outputs": [
        {
          "output_type": "stream",
          "name": "stdout",
          "text": [
            "\u001b[2K     \u001b[90m━━━━━━━━━━━━━━━━━━━━━━━━━━━━━━━━━━━━━━\u001b[0m \u001b[32m825.8/825.8 KB\u001b[0m \u001b[31m43.3 MB/s\u001b[0m eta \u001b[36m0:00:00\u001b[0m\n",
            "\u001b[2K     \u001b[90m━━━━━━━━━━━━━━━━━━━━━━━━━━━━━━━━━━━━━━\u001b[0m \u001b[32m512.4/512.4 KB\u001b[0m \u001b[31m46.2 MB/s\u001b[0m eta \u001b[36m0:00:00\u001b[0m\n",
            "\u001b[?25h"
          ]
        }
      ],
      "source": [
        "!pip install torchvision pytorch-lightning -q"
      ]
    },
    {
      "cell_type": "code",
      "execution_count": 2,
      "metadata": {
        "id": "WdG-uTcUSjjU"
      },
      "outputs": [],
      "source": [
        "### Assembling the data ###\n",
        "import json\n",
        "import os\n",
        "import random\n",
        "import nltk\n",
        "import pickle\n",
        "from PIL import Image\n",
        "from IPython.display import Image as DisplayImage\n",
        "from shutil import copyfile\n",
        "from collections import Counter\n",
        "\n",
        "### Building and training the model ###\n",
        "import torch\n",
        "import torch.nn as nn\n",
        "from torch.nn.utils.rnn import pack_padded_sequence as pk_pdd_seq\n",
        "from torch.utils.data import Dataset, DataLoader\n",
        "import torchvision.models as models\n",
        "from torchvision.transforms import transforms as T\n",
        "import pytorch_lightning as pl\n",
        "from pytorch_lightning.loggers import CSVLogger\n"
      ]
    },
    {
      "cell_type": "code",
      "execution_count": 7,
      "metadata": {
        "id": "Esux9-FcSMhJ"
      },
      "outputs": [],
      "source": [
        "obj_f = '/content/coco_data/annotations/instances_train2017.json'\n",
        "\n",
        "with open(obj_f) as f:\n",
        "  object_detections = json.load(f)"
      ]
    },
    {
      "cell_type": "code",
      "execution_count": 8,
      "metadata": {
        "id": "dV2oYXSnSnSz"
      },
      "outputs": [],
      "source": [
        "CATEGORY_LIST = [4, 5, 22, 43]\n",
        "COUNT_PER_CATEGORY = 1000\n"
      ]
    },
    {
      "cell_type": "code",
      "execution_count": 9,
      "metadata": {
        "id": "mF8_GBYvYFxj"
      },
      "outputs": [],
      "source": [
        "category_dict = dict()\n",
        "for category_id in CATEGORY_LIST:\n",
        "  category_dict[category_id] = dict()\n",
        "\n",
        "all_images = dict()\n",
        "filtered_images = set()\n",
        "\n",
        "for annotation in object_detections['annotations']:\n",
        "  category_id = annotation['category_id']\n",
        "  image_id = annotation['image_id']\n",
        "  area = annotation['area']\n",
        "  if category_id in CATEGORY_LIST:\n",
        "    if image_id not in category_dict[category_id]:\n",
        "      category_dict[category_id][image_id] = []\n",
        "  if image_id not in all_images:\n",
        "    all_images[image_id] = dict()\n",
        "  if category_id not in all_images[image_id]:\n",
        "    all_images[image_id][category_id] = area\n",
        "  else:\n",
        "    current_area = all_images[image_id][category_id]\n",
        "    if area > current_area:\n",
        "      all_images[image_id][category_id] = area"
      ]
    },
    {
      "cell_type": "code",
      "execution_count": 10,
      "metadata": {
        "id": "v5EEjnG1UyOz",
        "colab": {
          "base_uri": "https://localhost:8080/"
        },
        "outputId": "0267ef6d-43ed-43b1-9157-3bd011c57b9a"
      },
      "outputs": [
        {
          "output_type": "stream",
          "name": "stdout",
          "text": [
            "Processing category 4\n",
            "  Added 1000 images at prominance_index 0 out of 2134 images\n",
            "  Completed filtering of total 1000 images of category 4\n",
            "Processing category 5\n",
            "  Added 1000 images at prominance_index 0 out of 2707 images\n",
            "  Completed filtering of total 1000 images of category 5\n",
            "Processing category 22\n",
            "  Added 1000 images at prominance_index 0 out of 1981 images\n",
            "  Completed filtering of total 1000 images of category 22\n",
            "Processing category 43\n",
            "  Added all 30 images at prominance_index 0\n",
            "  Added 970 images at prominance_index 1 out of 2621 images\n",
            "  Completed filtering of total 1000 images of category 43\n",
            "Processed all categories. Number of filtered images is 4000\n"
          ]
        }
      ],
      "source": [
        "if COUNT_PER_CATEGORY == -1:\n",
        "  for category_id in category_dict:\n",
        "    print(\"Processing category {}\".format(category_id))\n",
        "    filtered_images.update(category_dict[category_id].keys())\n",
        "    print(\"  Filtered total {} images of category {}\".format(len(category_dict[category_id].keys()), category_id))\n",
        "else:\n",
        "  for image_id in all_images:\n",
        "    areas = list(all_images[image_id].values())\n",
        "    categories = list(all_images[image_id].keys())\n",
        "    sorted_areas = sorted(areas, reverse=True)\n",
        "    sorted_categories = []\n",
        "    for area in sorted_areas:\n",
        "      sorted_categories.append(categories[areas.index(area)])\n",
        "    all_images[image_id] = sorted_categories\n",
        "\n",
        "  for category_id in category_dict:\n",
        "    print(\"Processing category {}\".format(category_id))\n",
        "    for image_id in category_dict[category_id]:\n",
        "      category_dict[category_id][image_id] = all_images[image_id]\n",
        "    prominance_index = 0\n",
        "    prominent_image_ids = []\n",
        "    while len(category_dict[category_id]) > 0 and len(prominent_image_ids) < COUNT_PER_CATEGORY:\n",
        "      remaining_count = COUNT_PER_CATEGORY - len(prominent_image_ids)\n",
        "      image_ids = []\n",
        "      for image_id in category_dict[category_id]:\n",
        "        if category_dict[category_id][image_id].index(category_id) == prominance_index:\n",
        "          image_ids.append(image_id)\n",
        "      for image_id in image_ids:\n",
        "        del category_dict[category_id][image_id]\n",
        "      if len(image_ids) <= remaining_count:\n",
        "        prominent_image_ids = prominent_image_ids + image_ids\n",
        "        if prominance_index > 4:\n",
        "          print(image_ids)\n",
        "        print(\"  Added all {} images at prominance_index {}\".format(len(image_ids), prominance_index))\n",
        "      else:\n",
        "        random.shuffle(image_ids)\n",
        "        prominent_image_ids = prominent_image_ids + image_ids[0:remaining_count]\n",
        "        print(\"  Added {} images at prominance_index {} out of {} images\".format(remaining_count, prominance_index, len(image_ids)))\n",
        "      prominance_index = prominance_index + 1\n",
        "    filtered_images.update(prominent_image_ids)\n",
        "    print(\"  Completed filtering of total {} images of category {}\".format(len(prominent_image_ids), category_id))\n",
        "\n",
        "print(\"Processed all categories. Number of filtered images is {}\".format(len(filtered_images)))\n"
      ]
    },
    {
      "cell_type": "code",
      "execution_count": 11,
      "metadata": {
        "id": "TK831q87b0Iv",
        "colab": {
          "base_uri": "https://localhost:8080/"
        },
        "outputId": "58ac6fa1-afc4-49bb-cd30-6c32fc00b0a0"
      },
      "outputs": [
        {
          "output_type": "stream",
          "name": "stdout",
          "text": [
            "Number of filtered annotations is 20012\n",
            "Expected number of filtered images is 4000, actual number is 4000\n"
          ]
        }
      ],
      "source": [
        "caps_fl = \"/content/coco_data/annotations/captions_train2017.json\"\n",
        "with open(caps_fl) as json_file:\n",
        "  captions = json.load(json_file)\n",
        "\n",
        "filtered_annotations = []\n",
        "for annotation in captions['annotations']:\n",
        "  if annotation['image_id'] in filtered_images:\n",
        "    filtered_annotations.append(annotation)\n",
        "captions['annotations'] = filtered_annotations\n",
        "print(\"Number of filtered annotations is {}\".format(len(captions['annotations'])))\n",
        "\n",
        "images = []\n",
        "filtered_image_file_names = set()\n",
        "for image in captions['images']:\n",
        "  if image['id'] in filtered_images:\n",
        "    images.append(image)\n",
        "    filtered_image_file_names.add(image['file_name'])\n",
        "captions['images'] = images\n",
        "print(\"Expected number of filtered images is {}, actual number is {}\".format(len(filtered_images), len(captions['images'])))\n"
      ]
    },
    {
      "cell_type": "code",
      "source": [
        "with open(\"./coco_data/captions.json\", 'w+') as output_file:\n",
        "  json.dump(captions, output_file)"
      ],
      "metadata": {
        "id": "kGqwdWU1VCh-"
      },
      "execution_count": 12,
      "outputs": []
    },
    {
      "cell_type": "code",
      "source": [
        "!mkdir coco_data/images\n",
        "for file_name in filtered_image_file_names:\n",
        "  copyfile(\"./coco_data/train2017/{}\".format(file_name),\n",
        "           \"./coco_data/images/{}\".format(file_name))\n"
      ],
      "metadata": {
        "id": "ILGslVRwVGES"
      },
      "execution_count": 13,
      "outputs": []
    },
    {
      "cell_type": "code",
      "execution_count": 14,
      "metadata": {
        "id": "PsPkEAeVcCrW"
      },
      "outputs": [],
      "source": [
        "def resize_img(input_path, output_path, new_size):\n",
        "  if not os.path.exists(output_path):\n",
        "    os.makedirs(output_path)\n",
        "  img_files = os.listdir(input_path)\n",
        "  n_img = len(img_files)\n",
        "  for i, img in enumerate(img_files):\n",
        "    img_full_path = os.path.join(input_path, img)\n",
        "    with open(img_full_path, 'r+b') as f:\n",
        "      with Image.open(f) as image:\n",
        "        image = image.resize(new_size, Image.ANTIALIAS)\n",
        "        img_sv_full_path = os.path.join(output_path, img)\n",
        "        image.save(img_sv_full_path, image.format)\n",
        "    if (i+1) % 1000 == 0 or (i+1) == n_img:\n",
        "      print(f'Resized and saved {i+1} images out of {n_img}')"
      ]
    },
    {
      "cell_type": "code",
      "execution_count": 15,
      "metadata": {
        "id": "dcdnertBkjS0",
        "colab": {
          "base_uri": "https://localhost:8080/"
        },
        "outputId": "522e44cb-0fe7-4a60-f380-8da2a04d7b5e"
      },
      "outputs": [
        {
          "output_type": "stream",
          "name": "stdout",
          "text": [
            "Resized and saved 1000 images out of 4000\n",
            "Resized and saved 2000 images out of 4000\n",
            "Resized and saved 3000 images out of 4000\n",
            "Resized and saved 4000 images out of 4000\n"
          ]
        }
      ],
      "source": [
        "in_path = '/content/coco_data/images'\n",
        "out_path = '/content/coco_data/resized_images'\n",
        "\n",
        "resize_img(in_path, out_path, [256, 256])"
      ]
    },
    {
      "cell_type": "code",
      "execution_count": 24,
      "metadata": {
        "id": "OL1sxtZnnNEG",
        "colab": {
          "base_uri": "https://localhost:8080/",
          "height": 273
        },
        "outputId": "6632e038-9064-41a2-ea0b-467dd447a0d2"
      },
      "outputs": [
        {
          "output_type": "execute_result",
          "data": {
            "image/jpeg": "[encoded data removed]",
            "text/plain": [
              "<IPython.core.display.Image object>"
            ]
          },
          "metadata": {},
          "execution_count": 24
        }
      ],
      "source": [
        "DisplayImage(filename='/content/coco_data/resized_images/000000000073.jpg') "
      ]
    },
    {
      "cell_type": "code",
      "execution_count": 3,
      "metadata": {
        "id": "IP6mbsyn8yr-"
      },
      "outputs": [],
      "source": [
        "class Vocabulary(object):\n",
        "    def __init__(self):\n",
        "        self.token_to_int = {}\n",
        "        self.int_to_token = {}\n",
        "        self.current_index = 0\n",
        "\n",
        "    def __call__(self, token):\n",
        "        if not token in self.token_to_int:\n",
        "            return self.token_to_int['<unk>']\n",
        "        return self.token_to_int[token]\n",
        "\n",
        "    def __len__(self):\n",
        "        return len(self.token_to_int)\n",
        "\n",
        "    def add_token(self, token):\n",
        "        if not token in self.token_to_int:\n",
        "            self.token_to_int[token] = self.current_index\n",
        "            self.int_to_token[self.current_index] = token\n",
        "            self.current_index += 1"
      ]
    },
    {
      "cell_type": "code",
      "execution_count": 4,
      "metadata": {
        "id": "_XEa4kALtTfb",
        "colab": {
          "base_uri": "https://localhost:8080/"
        },
        "outputId": "acfe4571-3ff4-4286-b01d-f4bbbc16e116"
      },
      "outputs": [
        {
          "output_type": "stream",
          "name": "stderr",
          "text": [
            "[nltk_data] Downloading package punkt to /root/nltk_data...\n",
            "[nltk_data]   Unzipping tokenizers/punkt.zip.\n"
          ]
        },
        {
          "output_type": "execute_result",
          "data": {
            "text/plain": [
              "True"
            ]
          },
          "metadata": {},
          "execution_count": 4
        }
      ],
      "source": [
        "nltk.download('punkt')"
      ]
    },
    {
      "cell_type": "code",
      "execution_count": 5,
      "metadata": {
        "id": "oKhFSUIBk1sZ"
      },
      "outputs": [],
      "source": [
        "def build_vocab(json_path, threshold):\n",
        "  with open(json_path) as json_file:\n",
        "    captions = json.load(json_file)\n",
        "  n_captions = len(captions['annotations'])\n",
        "  counter = Counter()\n",
        "  i = 0 \n",
        "  for annotation in captions['annotations']:\n",
        "    i += 1\n",
        "    caption = annotation['caption']\n",
        "    tokens = nltk.tokenize.word_tokenize(caption.lower())\n",
        "    counter.update(tokens)\n",
        "    if i % 1000 or i == n_captions:\n",
        "      print(f'Tokenized {i} out of total '\n",
        "            f'{n_captions} captions.')\n",
        "      \n",
        "  tokens = [tkn for tkn, i in counter.items() if i >= threshold]\n",
        "\n",
        "  vocabulary = Vocabulary()\n",
        "  vocabulary.add_token('<pad>')\n",
        "  vocabulary.add_token('<start>')\n",
        "  vocabulary.add_token('<end>')\n",
        "  vocabulary.add_token('<unk>')\n",
        "\n",
        "  for i, token in enumerate(tokens):\n",
        "    vocabulary.add_token(token)\n",
        "  return vocabulary"
      ]
    },
    {
      "cell_type": "code",
      "source": [
        "vocabulary = build_vocab(json_path='/content/coco_data/captions.json', threshold=4)\n",
        "vocabulary_path = '/content/coco_data/vocabulary.pkl'\n",
        "with open(vocabulary_path, 'wb') as f:\n",
        "    pickle.dump(vocabulary, f)\n",
        "print(\"Total vocabulary size: {}\".format(len(vocabulary)))"
      ],
      "metadata": {
        "id": "TkYtQRtkaHFJ"
      },
      "execution_count": null,
      "outputs": []
    },
    {
      "cell_type": "code",
      "source": [
        "src_path = '/content/drive/MyDrive/Colab Notebooks/CNN-RNN-COCO/coco_data'"
      ],
      "metadata": {
        "id": "IKTH64lBWTm4"
      },
      "execution_count": 7,
      "outputs": []
    },
    {
      "cell_type": "code",
      "source": [
        "#!mv '/content/coco_data/vocabulary.pkl' '/content/drive/MyDrive/Colab Notebooks/CNN-RNN-COCO/coco_data'"
      ],
      "metadata": {
        "id": "9gNb-e2izYja"
      },
      "execution_count": 8,
      "outputs": []
    },
    {
      "cell_type": "code",
      "execution_count": 9,
      "metadata": {
        "id": "IonLPgH_vVyh"
      },
      "outputs": [],
      "source": [
        "class CocoDataset(Dataset):\n",
        "  def __init__(self, data_path, json_path, vocab, transform=None):\n",
        "    self.img_dir = data_path\n",
        "    self.vocab = vocab\n",
        "    self.transform = transform\n",
        "    with open(json_path) as f:\n",
        "      self.coco = json.load(f)\n",
        "    self.image_id_file_name = dict()\n",
        "    for image in self.coco['images']:\n",
        "      self.image_id_file_name[image['id']] = image['file_name']\n",
        "\n",
        "  def __getitem__(self, idx):\n",
        "    annotation = self.coco['annotations'][idx]\n",
        "    caption = annotation['caption']\n",
        "    tkns = nltk.tokenize.word_tokenize(str(caption).lower())\n",
        "    caption = []\n",
        "    caption.append(self.vocab('<start>'))\n",
        "    caption.extend([self.vocab(tkn) for tkn in tkns])\n",
        "    caption.append(self.vocab('<end>'))\n",
        "\n",
        "    img_id = annotation['image_id']\n",
        "    image_f = self.image_id_file_name[img_id]\n",
        "    img_path = os.path.join(self.img_dir, image_f)\n",
        "    img = Image.open(img_path).convert('RGB')\n",
        "    if self.transform is not None:\n",
        "      img = self.transform(img)\n",
        "\n",
        "    return img, torch.Tensor(caption)\n",
        "\n",
        "  def __len__(self):\n",
        "    \"\"\"\n",
        "    There is 5 captions per image, so total length of the \n",
        "    dataset is equal to the total n of captions.\n",
        "    \"\"\"\n",
        "    return len(self.coco['annotations']) "
      ]
    },
    {
      "cell_type": "code",
      "execution_count": 10,
      "metadata": {
        "id": "dj6lu8EjA0cS"
      },
      "outputs": [],
      "source": [
        "def coco_collate_fn(data_batch):\n",
        "    data_batch.sort(key=lambda d: len(d[1]), reverse=True)\n",
        "    imgs, caps = zip(*data_batch)\n",
        "\n",
        "    imgs = torch.stack(imgs, 0)\n",
        "\n",
        "    cap_lens = [len(cap) for cap in caps]\n",
        "    padded_caps = torch.zeros(len(caps), max(cap_lens)).long()\n",
        "    for i, cap in enumerate(caps):\n",
        "        end = cap_lens[i]\n",
        "        padded_caps[i, :end] = cap[:end]\n",
        "    return imgs, padded_caps, cap_lens"
      ]
    },
    {
      "cell_type": "code",
      "execution_count": 11,
      "metadata": {
        "id": "5W2AyBLEBeRE"
      },
      "outputs": [],
      "source": [
        "def get_loader(data_path, json_path, vocab, transform, batch_size, shuffle, num_workers=0):\n",
        "  coco_ds = CocoDataset(data_path, json_path, vocab, transform)\n",
        "  coco_dl = DataLoader(coco_ds, batch_size, shuffle, num_workers=num_workers, collate_fn = coco_collate_fn)\n",
        "  return coco_dl"
      ]
    },
    {
      "cell_type": "code",
      "execution_count": 12,
      "metadata": {
        "id": "A1tXNyZ1DzSY"
      },
      "outputs": [],
      "source": [
        "class HybridModel(pl.LightningModule):\n",
        "  def __init__(self, cnn_embdng_sz, lstm_embdng_sz, lstm_hidden_lyr_sz, \n",
        "               lstm_vocab_sz, lstm_num_lyrs, max_seq_len=20):\n",
        "    super(HybridModel, self).__init__()\n",
        "\n",
        "    resnet = models.resnet152(pretrained=False)\n",
        "    module_list = list(resnet.children())[:-1]\n",
        "    self.cnn_resnet = nn.Sequential(*module_list)\n",
        "    self.cnn_linear = nn.Linear(resnet.fc.in_features, cnn_embdng_sz)\n",
        "    self.cnn_batch_norm = nn.BatchNorm1d(cnn_embdng_sz, momentum=0.01)\n",
        "    \n",
        "    self.lstm_embdng_lyr = nn.Embedding(lstm_vocab_sz, lstm_embdng_sz)\n",
        "    self.lstm_lyr = nn.LSTM(lstm_embdng_sz, lstm_hidden_lyr_sz, lstm_num_lyrs, batch_first=True)\n",
        "    self.lstm_linear = nn.Linear(lstm_hidden_lyr_sz, lstm_vocab_sz)\n",
        "    self.max_seq_len = max_seq_len\n",
        "    self.save_hyperparameters()\n",
        "    print('Hparameters saved')\n",
        "\n",
        "  def forward(self, input, caps, lens):\n",
        "    features = self.cnn_resnet(input)\n",
        "    features = features.reshape(features.size(0), -1)\n",
        "    features = self.cnn_linear(features)\n",
        "    cnn_features = self.cnn_batch_norm(features)\n",
        "    embeddings = self.lstm_embdng_lyr(caps)\n",
        "    embeddings = torch.cat((cnn_features.unsqueeze(1), embeddings), 1)\n",
        "    lstm_input = pk_pdd_seq(embeddings, lens, batch_first=True)\n",
        "    hddn_vars, _ = self.lstm_lyr(lstm_input)\n",
        "    model_outputs = self.lstm_linear(hddn_vars[0])\n",
        "    return model_outputs\n",
        "\n",
        "  def configure_optimizers(self):\n",
        "    params = list(self.lstm_embdng_lyr.parameters()) + \\\n",
        "             list(self.lstm_lyr.parameters()) + \\\n",
        "             list(self.lstm_linear.parameters()) + \\\n",
        "             list(self.cnn_linear.parameters()) + \\\n",
        "             list(self.cnn_batch_norm.parameters())\n",
        "    optimizer = torch.optim.Adam(params, lr=0.0003)\n",
        "    return optimizer\n",
        "\n",
        "  def training_step(self, batch, batch_idx):\n",
        "    loss_criterion = nn.CrossEntropyLoss()\n",
        "    imgs, caps, lens = batch\n",
        "    outputs = self(imgs, caps, lens)\n",
        "    targets = pk_pdd_seq(caps, lens, batch_first=True)[0]\n",
        "    loss = loss_criterion(outputs, targets)\n",
        "    self.log('train_loss', loss, on_epoch=True)\n",
        "    return loss"
      ]
    },
    {
      "cell_type": "code",
      "execution_count": 26,
      "metadata": {
        "id": "Xlj0ZzE797TG"
      },
      "outputs": [],
      "source": [
        "transform = T.Compose([\n",
        "    T.RandomCrop(224),\n",
        "    T.RandomHorizontalFlip(),\n",
        "    T.ToTensor(),\n",
        "    T.Normalize((0.485, 0.456, 0.406), (0.229, 0.224, 0.225))\n",
        "])"
      ]
    },
    {
      "cell_type": "code",
      "source": [
        "with open(src_path + '/vocabulary.pkl', 'rb') as f:\n",
        "    vocabulary = pickle.load(f)"
      ],
      "metadata": {
        "id": "ObTj0vSXNmhb"
      },
      "execution_count": 14,
      "outputs": []
    },
    {
      "cell_type": "code",
      "execution_count": 27,
      "metadata": {
        "id": "4zYH_-GA8ghu"
      },
      "outputs": [],
      "source": [
        "coco_data_loader = get_loader(src_path+'/resized_images',\n",
        "                              src_path+'/captions.json',\n",
        "                              vocabulary,\n",
        "                              transform, \n",
        "                              batch_size=128,\n",
        "                              shuffle=True,\n",
        "                              num_workers=4)"
      ]
    },
    {
      "cell_type": "code",
      "execution_count": 28,
      "metadata": {
        "id": "tEPbxDTt9Vkv",
        "colab": {
          "base_uri": "https://localhost:8080/"
        },
        "outputId": "cc013605-ca2e-416b-a21a-06363def9532"
      },
      "outputs": [
        {
          "output_type": "stream",
          "name": "stderr",
          "text": [
            "/usr/local/lib/python3.8/dist-packages/torchvision/models/_utils.py:208: UserWarning: The parameter 'pretrained' is deprecated since 0.13 and may be removed in the future, please use 'weights' instead.\n",
            "  warnings.warn(\n",
            "/usr/local/lib/python3.8/dist-packages/torchvision/models/_utils.py:223: UserWarning: Arguments other than a weight enum or `None` for 'weights' are deprecated since 0.13 and may be removed in the future. The current behavior is equivalent to passing `weights=None`.\n",
            "  warnings.warn(msg)\n"
          ]
        },
        {
          "output_type": "stream",
          "name": "stdout",
          "text": [
            "Hparameters saved\n"
          ]
        }
      ],
      "source": [
        "model = HybridModel(256, 256, 512, len(vocabulary), 1)"
      ]
    },
    {
      "cell_type": "code",
      "execution_count": 29,
      "metadata": {
        "id": "4B9dsZ7Z-e5t",
        "colab": {
          "base_uri": "https://localhost:8080/"
        },
        "outputId": "977e3fbc-15ea-4751-bf6b-7068b6743739"
      },
      "outputs": [
        {
          "output_type": "stream",
          "name": "stderr",
          "text": [
            "INFO:pytorch_lightning.utilities.rank_zero:Using 16bit None Automatic Mixed Precision (AMP)\n",
            "INFO:pytorch_lightning.utilities.rank_zero:GPU available: True (cuda), used: True\n",
            "INFO:pytorch_lightning.utilities.rank_zero:TPU available: False, using: 0 TPU cores\n",
            "INFO:pytorch_lightning.utilities.rank_zero:IPU available: False, using: 0 IPUs\n",
            "INFO:pytorch_lightning.utilities.rank_zero:HPU available: False, using: 0 HPUs\n"
          ]
        }
      ],
      "source": [
        "trainer = pl.Trainer(gpus=-1, precision=16, max_epochs=100, limit_train_batches=0.2, logger=CSVLogger(save_dir='logs/', name='exp_00001'))"
      ]
    },
    {
      "cell_type": "code",
      "execution_count": 30,
      "metadata": {
        "id": "VPT0aaTD_WRF",
        "colab": {
          "base_uri": "https://localhost:8080/",
          "height": 416,
          "referenced_widgets": [
            "e60e5802fb304bee8388c687639e0dab",
            "4590370581dd42dda12c7e81444e567a",
            "510f89df36234d6f97fa9efc28dc5558",
            "6e2609446d1f4006849663da9e7cf46a",
            "7ae9f1d8b05c4fb5b573ad855fbe5925",
            "b0202f43899f4a24960848266a403a34",
            "9804aadc223c4f668026f9953ba59de3",
            "d42c7ccd4f6c4ee58dd34b4d6b712738",
            "7b453566eb8a45aaaa6d5d16f78849f8",
            "fbc8c52712ca471698725f76d2f31d1d",
            "44ce13830abe4cbe904437e306fab837"
          ]
        },
        "outputId": "c25e8ede-3633-4b74-d1ef-01e2307c8a69"
      },
      "outputs": [
        {
          "output_type": "stream",
          "name": "stderr",
          "text": [
            "INFO:pytorch_lightning.accelerators.cuda:LOCAL_RANK: 0 - CUDA_VISIBLE_DEVICES: [0]\n",
            "INFO:pytorch_lightning.callbacks.model_summary:\n",
            "  | Name            | Type        | Params\n",
            "------------------------------------------------\n",
            "0 | cnn_resnet      | Sequential  | 58.1 M\n",
            "1 | cnn_linear      | Linear      | 524 K \n",
            "2 | cnn_batch_norm  | BatchNorm1d | 512   \n",
            "3 | lstm_embdng_lyr | Embedding   | 432 K \n",
            "4 | lstm_lyr        | LSTM        | 1.6 M \n",
            "5 | lstm_linear     | Linear      | 866 K \n",
            "------------------------------------------------\n",
            "61.5 M    Trainable params\n",
            "0         Non-trainable params\n",
            "61.5 M    Total params\n",
            "123.089   Total estimated model params size (MB)\n",
            "/usr/local/lib/python3.8/dist-packages/pytorch_lightning/trainer/trainer.py:1600: PossibleUserWarning: The number of training batches (31) is smaller than the logging interval Trainer(log_every_n_steps=50). Set a lower value for log_every_n_steps if you want to see logs for the training epoch.\n",
            "  rank_zero_warn(\n"
          ]
        },
        {
          "output_type": "display_data",
          "data": {
            "text/plain": [
              "Training: 0it [00:00, ?it/s]"
            ],
            "application/vnd.jupyter.widget-view+json": {
              "version_major": 2,
              "version_minor": 0,
              "model_id": "e60e5802fb304bee8388c687639e0dab"
            }
          },
          "metadata": {}
        },
        {
          "output_type": "stream",
          "name": "stderr",
          "text": [
            "/usr/local/lib/python3.8/dist-packages/pytorch_lightning/utilities/data.py:84: UserWarning: Trying to infer the `batch_size` from an ambiguous collection. The batch size we found is 128. To avoid any miscalculations, use `self.log(..., batch_size=batch_size)`.\n",
            "  warning_cache.warn(\n",
            "INFO:pytorch_lightning.utilities.rank_zero:`Trainer.fit` stopped: `max_epochs=100` reached.\n"
          ]
        }
      ],
      "source": [
        "trainer.fit(model, coco_data_loader)"
      ]
    },
    {
      "cell_type": "code",
      "source": [
        "import pandas as pd\n",
        "import seaborn as sns"
      ],
      "metadata": {
        "id": "KiurxUWVuPN-"
      },
      "execution_count": 32,
      "outputs": []
    },
    {
      "cell_type": "code",
      "source": [
        "metrics = pd.read_csv(f\"{trainer.logger.log_dir}/metrics.csv\")\n",
        "del metrics[\"step\"]\n",
        "metrics.set_index(\"epoch\", inplace=True)\n",
        "sns.relplot(data=metrics, kind=\"line\")\n",
        "     "
      ],
      "metadata": {
        "colab": {
          "base_uri": "https://localhost:8080/",
          "height": 386
        },
        "id": "5FnrsSZzC-zT",
        "outputId": "c3642c6c-d3e0-4035-a8b6-448598b7811c"
      },
      "execution_count": 33,
      "outputs": [
        {
          "output_type": "execute_result",
          "data": {
            "text/plain": [
              "<seaborn.axisgrid.FacetGrid at 0x7f08d5cd92b0>"
            ]
          },
          "metadata": {},
          "execution_count": 33
        },
        {
          "output_type": "display_data",
          "data": {
            "text/plain": [
              "<Figure size 479x360 with 1 Axes>"
            ],
            "image/png": "[encoded data removed]"
          },
          "metadata": {
            "needs_background": "light"
          }
        }
      ]
    },
    {
      "cell_type": "code",
      "source": [
        "!mv '/content/logs/exp_00001/version_3' '/content/drive/MyDrive/Colab Notebooks/CNN-RNN-COCO/coco_data/exp__0001'"
      ],
      "metadata": {
        "id": "zFMRPKy4uxs0"
      },
      "execution_count": 34,
      "outputs": []
    },
    {
      "cell_type": "code",
      "source": [],
      "metadata": {
        "id": "DBhyytA1u5U1"
      },
      "execution_count": null,
      "outputs": []
    }
  ],
  "metadata": {
    "colab": {
      "provenance": [],
      "mount_file_id": "1-eWB2NX1fxBlky4VoyW7BxZj4lKeFdtT",
      "authorship_tag": "ABX9TyMhIHbk3r7+DSBVE+OVOOFh",
      "include_colab_link": true
    },
    "gpuClass": "standard",
    "kernelspec": {
      "display_name": "Python 3",
      "name": "python3"
    },
    "language_info": {
      "name": "python"
    },
    "accelerator": "GPU",
    "widgets": {
      "application/vnd.jupyter.widget-state+json": {
        "e60e5802fb304bee8388c687639e0dab": {
          "model_module": "@jupyter-widgets/controls",
          "model_name": "HBoxModel",
          "model_module_version": "1.5.0",
          "state": {
            "_dom_classes": [],
            "_model_module": "@jupyter-widgets/controls",
            "_model_module_version": "1.5.0",
            "_model_name": "HBoxModel",
            "_view_count": null,
            "_view_module": "@jupyter-widgets/controls",
            "_view_module_version": "1.5.0",
            "_view_name": "HBoxView",
            "box_style": "",
            "children": [
              "IPY_MODEL_4590370581dd42dda12c7e81444e567a",
              "IPY_MODEL_510f89df36234d6f97fa9efc28dc5558",
              "IPY_MODEL_6e2609446d1f4006849663da9e7cf46a"
            ],
            "layout": "IPY_MODEL_7ae9f1d8b05c4fb5b573ad855fbe5925"
          }
        },
        "4590370581dd42dda12c7e81444e567a": {
          "model_module": "@jupyter-widgets/controls",
          "model_name": "HTMLModel",
          "model_module_version": "1.5.0",
          "state": {
            "_dom_classes": [],
            "_model_module": "@jupyter-widgets/controls",
            "_model_module_version": "1.5.0",
            "_model_name": "HTMLModel",
            "_view_count": null,
            "_view_module": "@jupyter-widgets/controls",
            "_view_module_version": "1.5.0",
            "_view_name": "HTMLView",
            "description": "",
            "description_tooltip": null,
            "layout": "IPY_MODEL_b0202f43899f4a24960848266a403a34",
            "placeholder": "​",
            "style": "IPY_MODEL_9804aadc223c4f668026f9953ba59de3",
            "value": "Epoch 99: 100%"
          }
        },
        "510f89df36234d6f97fa9efc28dc5558": {
          "model_module": "@jupyter-widgets/controls",
          "model_name": "FloatProgressModel",
          "model_module_version": "1.5.0",
          "state": {
            "_dom_classes": [],
            "_model_module": "@jupyter-widgets/controls",
            "_model_module_version": "1.5.0",
            "_model_name": "FloatProgressModel",
            "_view_count": null,
            "_view_module": "@jupyter-widgets/controls",
            "_view_module_version": "1.5.0",
            "_view_name": "ProgressView",
            "bar_style": "success",
            "description": "",
            "description_tooltip": null,
            "layout": "IPY_MODEL_d42c7ccd4f6c4ee58dd34b4d6b712738",
            "max": 31,
            "min": 0,
            "orientation": "horizontal",
            "style": "IPY_MODEL_7b453566eb8a45aaaa6d5d16f78849f8",
            "value": 31
          }
        },
        "6e2609446d1f4006849663da9e7cf46a": {
          "model_module": "@jupyter-widgets/controls",
          "model_name": "HTMLModel",
          "model_module_version": "1.5.0",
          "state": {
            "_dom_classes": [],
            "_model_module": "@jupyter-widgets/controls",
            "_model_module_version": "1.5.0",
            "_model_name": "HTMLModel",
            "_view_count": null,
            "_view_module": "@jupyter-widgets/controls",
            "_view_module_version": "1.5.0",
            "_view_name": "HTMLView",
            "description": "",
            "description_tooltip": null,
            "layout": "IPY_MODEL_fbc8c52712ca471698725f76d2f31d1d",
            "placeholder": "​",
            "style": "IPY_MODEL_44ce13830abe4cbe904437e306fab837",
            "value": " 31/31 [00:40&lt;00:00,  1.29s/it, loss=1.74, v_num=3]"
          }
        },
        "7ae9f1d8b05c4fb5b573ad855fbe5925": {
          "model_module": "@jupyter-widgets/base",
          "model_name": "LayoutModel",
          "model_module_version": "1.2.0",
          "state": {
            "_model_module": "@jupyter-widgets/base",
            "_model_module_version": "1.2.0",
            "_model_name": "LayoutModel",
            "_view_count": null,
            "_view_module": "@jupyter-widgets/base",
            "_view_module_version": "1.2.0",
            "_view_name": "LayoutView",
            "align_content": null,
            "align_items": null,
            "align_self": null,
            "border": null,
            "bottom": null,
            "display": "inline-flex",
            "flex": null,
            "flex_flow": "row wrap",
            "grid_area": null,
            "grid_auto_columns": null,
            "grid_auto_flow": null,
            "grid_auto_rows": null,
            "grid_column": null,
            "grid_gap": null,
            "grid_row": null,
            "grid_template_areas": null,
            "grid_template_columns": null,
            "grid_template_rows": null,
            "height": null,
            "justify_content": null,
            "justify_items": null,
            "left": null,
            "margin": null,
            "max_height": null,
            "max_width": null,
            "min_height": null,
            "min_width": null,
            "object_fit": null,
            "object_position": null,
            "order": null,
            "overflow": null,
            "overflow_x": null,
            "overflow_y": null,
            "padding": null,
            "right": null,
            "top": null,
            "visibility": null,
            "width": "100%"
          }
        },
        "b0202f43899f4a24960848266a403a34": {
          "model_module": "@jupyter-widgets/base",
          "model_name": "LayoutModel",
          "model_module_version": "1.2.0",
          "state": {
            "_model_module": "@jupyter-widgets/base",
            "_model_module_version": "1.2.0",
            "_model_name": "LayoutModel",
            "_view_count": null,
            "_view_module": "@jupyter-widgets/base",
            "_view_module_version": "1.2.0",
            "_view_name": "LayoutView",
            "align_content": null,
            "align_items": null,
            "align_self": null,
            "border": null,
            "bottom": null,
            "display": null,
            "flex": null,
            "flex_flow": null,
            "grid_area": null,
            "grid_auto_columns": null,
            "grid_auto_flow": null,
            "grid_auto_rows": null,
            "grid_column": null,
            "grid_gap": null,
            "grid_row": null,
            "grid_template_areas": null,
            "grid_template_columns": null,
            "grid_template_rows": null,
            "height": null,
            "justify_content": null,
            "justify_items": null,
            "left": null,
            "margin": null,
            "max_height": null,
            "max_width": null,
            "min_height": null,
            "min_width": null,
            "object_fit": null,
            "object_position": null,
            "order": null,
            "overflow": null,
            "overflow_x": null,
            "overflow_y": null,
            "padding": null,
            "right": null,
            "top": null,
            "visibility": null,
            "width": null
          }
        },
        "9804aadc223c4f668026f9953ba59de3": {
          "model_module": "@jupyter-widgets/controls",
          "model_name": "DescriptionStyleModel",
          "model_module_version": "1.5.0",
          "state": {
            "_model_module": "@jupyter-widgets/controls",
            "_model_module_version": "1.5.0",
            "_model_name": "DescriptionStyleModel",
            "_view_count": null,
            "_view_module": "@jupyter-widgets/base",
            "_view_module_version": "1.2.0",
            "_view_name": "StyleView",
            "description_width": ""
          }
        },
        "d42c7ccd4f6c4ee58dd34b4d6b712738": {
          "model_module": "@jupyter-widgets/base",
          "model_name": "LayoutModel",
          "model_module_version": "1.2.0",
          "state": {
            "_model_module": "@jupyter-widgets/base",
            "_model_module_version": "1.2.0",
            "_model_name": "LayoutModel",
            "_view_count": null,
            "_view_module": "@jupyter-widgets/base",
            "_view_module_version": "1.2.0",
            "_view_name": "LayoutView",
            "align_content": null,
            "align_items": null,
            "align_self": null,
            "border": null,
            "bottom": null,
            "display": null,
            "flex": "2",
            "flex_flow": null,
            "grid_area": null,
            "grid_auto_columns": null,
            "grid_auto_flow": null,
            "grid_auto_rows": null,
            "grid_column": null,
            "grid_gap": null,
            "grid_row": null,
            "grid_template_areas": null,
            "grid_template_columns": null,
            "grid_template_rows": null,
            "height": null,
            "justify_content": null,
            "justify_items": null,
            "left": null,
            "margin": null,
            "max_height": null,
            "max_width": null,
            "min_height": null,
            "min_width": null,
            "object_fit": null,
            "object_position": null,
            "order": null,
            "overflow": null,
            "overflow_x": null,
            "overflow_y": null,
            "padding": null,
            "right": null,
            "top": null,
            "visibility": null,
            "width": null
          }
        },
        "7b453566eb8a45aaaa6d5d16f78849f8": {
          "model_module": "@jupyter-widgets/controls",
          "model_name": "ProgressStyleModel",
          "model_module_version": "1.5.0",
          "state": {
            "_model_module": "@jupyter-widgets/controls",
            "_model_module_version": "1.5.0",
            "_model_name": "ProgressStyleModel",
            "_view_count": null,
            "_view_module": "@jupyter-widgets/base",
            "_view_module_version": "1.2.0",
            "_view_name": "StyleView",
            "bar_color": null,
            "description_width": ""
          }
        },
        "fbc8c52712ca471698725f76d2f31d1d": {
          "model_module": "@jupyter-widgets/base",
          "model_name": "LayoutModel",
          "model_module_version": "1.2.0",
          "state": {
            "_model_module": "@jupyter-widgets/base",
            "_model_module_version": "1.2.0",
            "_model_name": "LayoutModel",
            "_view_count": null,
            "_view_module": "@jupyter-widgets/base",
            "_view_module_version": "1.2.0",
            "_view_name": "LayoutView",
            "align_content": null,
            "align_items": null,
            "align_self": null,
            "border": null,
            "bottom": null,
            "display": null,
            "flex": null,
            "flex_flow": null,
            "grid_area": null,
            "grid_auto_columns": null,
            "grid_auto_flow": null,
            "grid_auto_rows": null,
            "grid_column": null,
            "grid_gap": null,
            "grid_row": null,
            "grid_template_areas": null,
            "grid_template_columns": null,
            "grid_template_rows": null,
            "height": null,
            "justify_content": null,
            "justify_items": null,
            "left": null,
            "margin": null,
            "max_height": null,
            "max_width": null,
            "min_height": null,
            "min_width": null,
            "object_fit": null,
            "object_position": null,
            "order": null,
            "overflow": null,
            "overflow_x": null,
            "overflow_y": null,
            "padding": null,
            "right": null,
            "top": null,
            "visibility": null,
            "width": null
          }
        },
        "44ce13830abe4cbe904437e306fab837": {
          "model_module": "@jupyter-widgets/controls",
          "model_name": "DescriptionStyleModel",
          "model_module_version": "1.5.0",
          "state": {
            "_model_module": "@jupyter-widgets/controls",
            "_model_module_version": "1.5.0",
            "_model_name": "DescriptionStyleModel",
            "_view_count": null,
            "_view_module": "@jupyter-widgets/base",
            "_view_module_version": "1.2.0",
            "_view_name": "StyleView",
            "description_width": ""
          }
        }
      }
    }
  },
  "nbformat": 4,
  "nbformat_minor": 0
}